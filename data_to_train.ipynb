{
 "cells": [
  {
   "cell_type": "code",
   "execution_count": 3,
   "metadata": {},
   "outputs": [],
   "source": [
    "import numpy as np\n",
    "from sklearn.preprocessing import LabelEncoder"
   ]
  },
  {
   "cell_type": "code",
   "execution_count": 2,
   "metadata": {},
   "outputs": [
    {
     "name": "stdout",
     "output_type": "stream",
     "text": [
      "---------- data_read\n",
      "train data shape:\t (1526659, 376)\n",
      "submit data shape:\t (10, 375)\n",
      "train data shape:\t (1526659, 267)\n",
      "submit data shape:\t (10, 266)\n",
      "---------- data_clean\n",
      "---------- data_to_train\n"
     ]
    }
   ],
   "source": [
    "%run data_clean.ipynb\n",
    "\n",
    "print('---------- data_to_train')"
   ]
  },
  {
   "cell_type": "code",
   "execution_count": 4,
   "metadata": {},
   "outputs": [
    {
     "ename": "ValueError",
     "evalue": "could not convert string to float: 'Missing'",
     "output_type": "error",
     "traceback": [
      "\u001b[1;31m---------------------------------------------------------------------------\u001b[0m",
      "\u001b[1;31mValueError\u001b[0m                                Traceback (most recent call last)",
      "Cell \u001b[1;32mIn[4], line 10\u001b[0m\n\u001b[0;32m      7\u001b[0m     X_submit[col] \u001b[38;5;241m=\u001b[39m le\u001b[38;5;241m.\u001b[39mtransform(X_submit[col]\u001b[38;5;241m.\u001b[39mastype(\u001b[38;5;28mstr\u001b[39m))\n\u001b[0;32m      8\u001b[0m     label_encoders[col] \u001b[38;5;241m=\u001b[39m le\n\u001b[1;32m---> 10\u001b[0m X_train \u001b[38;5;241m=\u001b[39m \u001b[43mnp\u001b[49m\u001b[38;5;241;43m.\u001b[39;49m\u001b[43mhstack\u001b[49m\u001b[43m(\u001b[49m\u001b[43m[\u001b[49m\u001b[43mX_train\u001b[49m\u001b[43m[\u001b[49m\u001b[43mcat_cols\u001b[49m\u001b[43m]\u001b[49m\u001b[38;5;241;43m.\u001b[39;49m\u001b[43mvalues\u001b[49m\u001b[43m,\u001b[49m\u001b[43m \u001b[49m\u001b[43mX_train\u001b[49m\u001b[43m[\u001b[49m\u001b[43mnum_cols\u001b[49m\u001b[43m]\u001b[49m\u001b[38;5;241;43m.\u001b[39;49m\u001b[43mvalues\u001b[49m\u001b[43m]\u001b[49m\u001b[43m)\u001b[49m\u001b[38;5;241;43m.\u001b[39;49m\u001b[43mastype\u001b[49m\u001b[43m(\u001b[49m\u001b[38;5;124;43m'\u001b[39;49m\u001b[38;5;124;43mfloat32\u001b[39;49m\u001b[38;5;124;43m'\u001b[39;49m\u001b[43m)\u001b[49m\n\u001b[0;32m     11\u001b[0m X_submit \u001b[38;5;241m=\u001b[39m np\u001b[38;5;241m.\u001b[39mhstack([X_submit[cat_cols]\u001b[38;5;241m.\u001b[39mvalues, X_submit[num_cols]\u001b[38;5;241m.\u001b[39mvalues])\u001b[38;5;241m.\u001b[39mastype(\u001b[38;5;124m'\u001b[39m\u001b[38;5;124mfloat32\u001b[39m\u001b[38;5;124m'\u001b[39m)\n",
      "\u001b[1;31mValueError\u001b[0m: could not convert string to float: 'Missing'"
     ]
    }
   ],
   "source": [
    "label_encoders = {}\n",
    "for col in cat_cols:\n",
    "    le = LabelEncoder()\n",
    "    all_values = pd.concat([X_train[col], X_submit[col]], axis=0).astype(str)\n",
    "    le.fit(all_values)\n",
    "    X_train[col] = le.transform(X_train[col].astype(str))\n",
    "    X_submit[col] = le.transform(X_submit[col].astype(str))\n",
    "    label_encoders[col] = le\n",
    "\n",
    "X_train = np.hstack([X_train[cat_cols].values, X_train[num_cols].values]).astype('float32')\n",
    "X_submit = np.hstack([X_submit[cat_cols].values, X_submit[num_cols].values]).astype('float32')"
   ]
  },
  {
   "cell_type": "code",
   "execution_count": null,
   "metadata": {},
   "outputs": [],
   "source": [
    "week_threshold = 70\n",
    "\n",
    "# train_indices = df_train[df_train.WEEK_NUM < week_threshold].index\n",
    "# valid_indices = df_train[df_train.WEEK_NUM >= week_threshold].index\n",
    "\n",
    "X_valid = X_train[df_train[df_train.WEEK_NUM >= week_threshold].index]\n",
    "y_valid = df_train.loc[df_train[df_train.WEEK_NUM >= week_threshold].index, 'target']\n",
    "\n",
    "X_train = X_train[df_train[df_train.WEEK_NUM < week_threshold].index]\n",
    "y_train = df_train.loc[df_train[df_train.WEEK_NUM < week_threshold].index, 'target'] "
   ]
  }
 ],
 "metadata": {
  "kernelspec": {
   "display_name": ".venv",
   "language": "python",
   "name": "python3"
  },
  "language_info": {
   "codemirror_mode": {
    "name": "ipython",
    "version": 3
   },
   "file_extension": ".py",
   "mimetype": "text/x-python",
   "name": "python",
   "nbconvert_exporter": "python",
   "pygments_lexer": "ipython3",
   "version": "3.10.11"
  }
 },
 "nbformat": 4,
 "nbformat_minor": 2
}
